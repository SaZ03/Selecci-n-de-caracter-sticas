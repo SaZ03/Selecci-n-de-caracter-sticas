{
 "cells": [
  {
   "cell_type": "markdown",
   "id": "4b290eee-d7bc-470d-bcaf-c1ed979771fd",
   "metadata": {},
   "source": [
    "# Selección de Características Sergio Alejandro Zamora Dávila\n",
    "\n",
    "Importo los datos del archivo “Vino Tinto.csv” al ambiente de trabajo. Reviso las dimensiones del data frame y las imprimo en consola"
   ]
  },
  {
   "cell_type": "code",
   "execution_count": 11,
   "id": "5f10ff09-f093-4f33-b3f6-72cf09ad26b2",
   "metadata": {},
   "outputs": [
    {
     "name": "stdout",
     "output_type": "stream",
     "text": [
      "(1599, 12)\n",
      "Index(['acidezFija', 'acidezVolatil', 'acidoCitrico', 'azucarResidual',\n",
      "       'cloruros', 'dioxidoAzufreLibre', 'dioxidoAzufreTotal', 'densidad',\n",
      "       'pH', 'sulfatos', 'alcohol', 'calidad'],\n",
      "      dtype='object')\n",
      "   acidezFija  acidezVolatil  acidoCitrico  azucarResidual  cloruros  \\\n",
      "0         7.4           0.70          0.00             1.9     0.076   \n",
      "1         7.8           0.88          0.00             2.6     0.098   \n",
      "2         7.8           0.76          0.04             2.3     0.092   \n",
      "3        11.2           0.28          0.56             1.9     0.075   \n",
      "4         7.4           0.70          0.00             1.9     0.076   \n",
      "\n",
      "   dioxidoAzufreLibre  dioxidoAzufreTotal  densidad    pH  sulfatos  alcohol  \\\n",
      "0                11.0                34.0    0.9978  3.51      0.56      9.4   \n",
      "1                25.0                67.0    0.9968  3.20      0.68      9.8   \n",
      "2                15.0                54.0    0.9970  3.26      0.65      9.8   \n",
      "3                17.0                60.0    0.9980  3.16      0.58      9.8   \n",
      "4                11.0                34.0    0.9978  3.51      0.56      9.4   \n",
      "\n",
      "   calidad  \n",
      "0        5  \n",
      "1        5  \n",
      "2        5  \n",
      "3        6  \n",
      "4        5  \n"
     ]
    }
   ],
   "source": [
    "import pandas as pd\n",
    "df = pd.read_csv(\"VinoTinto.csv\")\n",
    "print(df.shape)\n",
    "print(df.columns)\n",
    "print(df.head(5))"
   ]
  },
  {
   "cell_type": "markdown",
   "id": "89c5d321-c4d9-4985-a5ba-057d8250bcdc",
   "metadata": {},
   "source": [
    "Se realiza un split de los datos en conjuntos de entrenamiento (80%) y prueba (20%). Se imprimen las dimensiones de ambos conjuntos y se verifica que la suma de observaciones coincida con el total del dataset original."
   ]
  },
  {
   "cell_type": "code",
   "execution_count": 12,
   "id": "f9fac1bd-43ff-4b2b-94b2-e5440b1c4ee2",
   "metadata": {},
   "outputs": [
    {
     "name": "stdout",
     "output_type": "stream",
     "text": [
      "(1279, 12)\n",
      "(320, 12)\n",
      "Total observaciones: 1599 -> 1599\n"
     ]
    }
   ],
   "source": [
    "from sklearn.model_selection import train_test_split\n",
    "train, test = train_test_split(df, train_size = 0.8)\n",
    "\n",
    "print(train.shape)\n",
    "print(test.shape)\n",
    "print(\"Total observaciones:\", len(df), \"->\", len(train) + len(test))\n",
    "\n",
    "X = train.drop('calidad', axis = 1)\n",
    "Y = train.calidad"
   ]
  },
  {
   "cell_type": "markdown",
   "id": "d139b95b-c6e8-4655-abe8-c0e7658c2641",
   "metadata": {},
   "source": [
    "Se utiliza la función SequentialFeatureSelector de la librería mlxtend para identificar las variables más relevantes para predecir la calidad del vino.\n",
    "\n",
    "a. estimator. Un modelo de regresión lineal. \n",
    "\n",
    "b. k_features. Se puede seleccionar la cantidad de variables de salida que se desean, aunque lo recomendable es mejor usar un rango, y que el algoritmo determine el número adecuado. \n",
    "\n",
    "c. forward. Determina si se hace selección hacia adelante (True) o hacia atrás (False), que ahora se usará la selección hacia adelante.\n",
    "\n",
    "d. scoring. La métrica que se usará para determinar si un modelo es mejor que otro, si se define con ‘r2’ se usará la R cuadrada.\n",
    "\n",
    "e. cv. Si se desea realizar validación cruzada, y cuántas instancias de la misma.\n"
   ]
  },
  {
   "cell_type": "code",
   "execution_count": 24,
   "id": "e9a1024e-7763-4880-9e22-a4b06ce9fa5b",
   "metadata": {},
   "outputs": [
    {
     "name": "stdout",
     "output_type": "stream",
     "text": [
      "Índices seleccionados (forward): [1, 4, 5, 6, 8, 9, 10]\n",
      "Variables seleccionadas (forward): ['acidezVolatil', 'cloruros', 'dioxidoAzufreLibre', 'dioxidoAzufreTotal', 'pH', 'sulfatos', 'alcohol']\n"
     ]
    }
   ],
   "source": [
    "from sklearn.linear_model import LinearRegression\n",
    "from mlxtend.feature_selection import SequentialFeatureSelector as SFS\n",
    "\n",
    "estimator = LinearRegression()\n",
    "\n",
    "sfs_forward = SFS(\n",
    "    estimator,\n",
    "    k_features=(2, 8),      # rango sugerido\n",
    "    forward=True,           # hacia adelante\n",
    "    floating=False,\n",
    "    scoring='r2',           # métrica R^2\n",
    "    cv=10,                  \n",
    "    n_jobs=-1,\n",
    ")\n",
    "\n",
    "sfs_forward = sfs_forward.fit(X, Y)\n",
    "\n",
    "idx_forward = list(sfs_forward.k_feature_idx_)         \n",
    "vars_forward = list(sfs_forward.k_feature_names_)      \n",
    "\n",
    "print(\"Índices seleccionados (forward):\", idx_forward)\n",
    "print(\"Variables seleccionadas (forward):\", vars_forward)\n"
   ]
  },
  {
   "cell_type": "markdown",
   "id": "e4b77dae-6ad9-4c8d-a0b5-363cae618781",
   "metadata": {},
   "source": [
    "Se entrena un modelo de regresión lineal usando únicamente las variables seleccionadas en el paso anterior. Luego se predice la calidad en el conjunto de prueba y se calcula el R² para evaluar la capacidad predictiva del modelo."
   ]
  },
  {
   "cell_type": "code",
   "execution_count": 18,
   "id": "aa439d7b-3ca1-4ace-a968-aeb6d3c2a3d4",
   "metadata": {},
   "outputs": [
    {
     "name": "stdout",
     "output_type": "stream",
     "text": [
      "R^2 en prueba (modelo con selección hacia adelante): 0.2717\n"
     ]
    }
   ],
   "source": [
    "from sklearn.metrics import r2_score\n",
    "\n",
    "vars_fs = vars_forward  \n",
    "\n",
    "xTrain = train[vars_fs]\n",
    "yTrain = train['calidad']\n",
    "\n",
    "xTest = test[vars_fs]\n",
    "yTest = test['calidad']\n",
    "\n",
    "model_fs = LinearRegression()\n",
    "model_fs.fit(xTrain, yTrain)\n",
    "\n",
    "y_pred_fs = model_fs.predict(xTest)\n",
    "\n",
    "r2_fs = r2_score(yTest, y_pred_fs)\n",
    "\n",
    "print(\"R^2 en prueba (modelo con selección hacia adelante):\", round(r2_fs, 4))\n",
    "\n"
   ]
  },
  {
   "cell_type": "markdown",
   "id": "5e1e37c6-f6b9-4d8a-a3d4-58183f17974e",
   "metadata": {},
   "source": [
    "A partir del dataset completo, se realiza un proceso de selección hacia atrás usando las mismas funciones de mlxtend, pero ahora con forward=False y un rango de variables más pequeño (k_features=(2,5)).\n",
    "Se imprimen los índices y nombres de las variables seleccionadas."
   ]
  },
  {
   "cell_type": "code",
   "execution_count": 15,
   "id": "be7a35f0-e235-46cb-8c45-643f4491e9ab",
   "metadata": {},
   "outputs": [
    {
     "name": "stdout",
     "output_type": "stream",
     "text": [
      "Índices seleccionados (backward): [1, 4, 6, 9, 10]\n",
      "Variables seleccionadas (backward): ['acidezVolatil', 'cloruros', 'dioxidoAzufreTotal', 'sulfatos', 'alcohol']\n"
     ]
    }
   ],
   "source": [
    "\n",
    "backwardSel = SFS(\n",
    "    estimator,\n",
    "    k_features=(2, 5),   # rango más pequeño\n",
    "    forward=False,       # hacia atrás\n",
    "    floating=False,\n",
    "    scoring='r2',\n",
    "    cv=10,\n",
    "    n_jobs=-1,\n",
    ")\n",
    "\n",
    "X = df.drop('calidad', axis=1)\n",
    "Y = df['calidad']\n",
    "\n",
    "backwardSel = backwardSel.fit(X, Y)\n",
    "\n",
    "idx_backward = list(backwardSel.k_feature_idx_)\n",
    "vars_backward = list(backwardSel.k_feature_names_)\n",
    "\n",
    "print(\"Índices seleccionados (backward):\", idx_backward)\n",
    "print(\"Variables seleccionadas (backward):\", vars_backward)\n"
   ]
  },
  {
   "cell_type": "markdown",
   "id": "01704521-e366-464e-8c06-a975b048d43f",
   "metadata": {},
   "source": [
    "Se repite el procedimiento del paso 4, pero usando únicamente las variables seleccionadas en la selección hacia atrás.\n",
    "Se compara el R² de este modelo con el del modelo de selección hacia adelante y se reflexiona sobre cuál de los dos modelos tiene mejor desempeño y por qué."
   ]
  },
  {
   "cell_type": "code",
   "execution_count": 23,
   "id": "c4dea8e4-9583-4951-88e9-8f9f4f76c222",
   "metadata": {},
   "outputs": [
    {
     "name": "stdout",
     "output_type": "stream",
     "text": [
      "R^2 en prueba (modelo con selección hacia atrás): 0.2653\n",
      "R^2 en prueba (modelo con selección hacia adelante): 0.2717\n",
      "Conclusión: el modelo con selección hacia adelante tiene mejor desempeño en prueba.\n"
     ]
    }
   ],
   "source": [
    "xTrain = train[vars_backward]\n",
    "yTrain = train['calidad']\n",
    "\n",
    "xTest = test[vars_backward]\n",
    "yTest = test['calidad']\n",
    "\n",
    "model_be = LinearRegression()\n",
    "model_be.fit(xTrain, yTrain)\n",
    "\n",
    "y_pred_be = model_be.predict(xTest)\n",
    "r2_be = r2_score(yTest, y_pred_be)\n",
    "\n",
    "print(\"R^2 en prueba (modelo con selección hacia atrás):\", round(r2_be, 4))\n",
    "print(\"R^2 en prueba (modelo con selección hacia adelante):\", round(r2_fs, 4))\n",
    "\n",
    "if r2_be > r2_fs:\n",
    "    print(\"Conclusión: el modelo con selección hacia atrás tiene mejor desempeño en prueba.\")\n",
    "elif r2_be < r2_fs:\n",
    "    print(\"Conclusión: el modelo con selección hacia adelante tiene mejor desempeño en prueba.\")\n",
    "else:\n",
    "    print(\"Conclusión: ambos modelos tienen el mismo desempeño en prueba según R^2.\")\n",
    "\n"
   ]
  },
  {
   "cell_type": "markdown",
   "id": "5e5fabce-bf47-4dbb-96fa-cc6219795371",
   "metadata": {},
   "source": [
    "Aunque el modelo de selección hacia adelante presenta un valor ligeramente mayor de 𝑅^2 (0.2717), esto se logra utilizando 7 variables, mientras que el modelo de selección hacia atrás alcanza un valor similar (0.2653) con solo 5 variables. El modelo backward tiene una menor complejidad con un desempeño muy cercano al otro modelo.\n",
    "La elección final entre ambos no debe basarse únicamente en 𝑅^2, sino también en un criterio de penalización por número de variables utilizadas, como el AIC/BIC o con técnicas de regularización como Ridge/Lasso (λ), que ayudan a equilibrar ajuste y simplicidad."
   ]
  }
 ],
 "metadata": {
  "kernelspec": {
   "display_name": "Python 3 (ipykernel)",
   "language": "python",
   "name": "python3"
  },
  "language_info": {
   "codemirror_mode": {
    "name": "ipython",
    "version": 3
   },
   "file_extension": ".py",
   "mimetype": "text/x-python",
   "name": "python",
   "nbconvert_exporter": "python",
   "pygments_lexer": "ipython3",
   "version": "3.13.6"
  }
 },
 "nbformat": 4,
 "nbformat_minor": 5
}
